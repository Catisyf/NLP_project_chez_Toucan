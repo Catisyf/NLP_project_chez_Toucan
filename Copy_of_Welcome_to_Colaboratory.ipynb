{
  "nbformat": 4,
  "nbformat_minor": 0,
  "metadata": {
    "colab": {
      "name": "Copy of Welcome to Colaboratory",
      "provenance": [],
      "collapsed_sections": [],
      "include_colab_link": true
    },
    "kernelspec": {
      "display_name": "Python 3",
      "name": "python3"
    }
  },
  "cells": [
    {
      "cell_type": "markdown",
      "metadata": {
        "id": "view-in-github",
        "colab_type": "text"
      },
      "source": [
        "<a href=\"https://colab.research.google.com/github/Catisyf/Python-projects-chez-Toucan/blob/main/Copy_of_Welcome_to_Colaboratory.ipynb\" target=\"_parent\"><img src=\"https://colab.research.google.com/assets/colab-badge.svg\" alt=\"Open In Colab\"/></a>"
      ]
    },
    {
      "cell_type": "code",
      "metadata": {
        "id": "pVZPHERqJhuF",
        "colab": {
          "base_uri": "https://localhost:8080/"
        },
        "outputId": "88cf86dc-fb16-4fad-bd72-fcd6bbd18600"
      },
      "source": [
        "from google.colab import drive\n",
        "drive.mount('/content/drive')"
      ],
      "execution_count": 1,
      "outputs": [
        {
          "output_type": "stream",
          "name": "stdout",
          "text": [
            "Mounted at /content/drive\n"
          ]
        }
      ]
    },
    {
      "cell_type": "code",
      "metadata": {
        "id": "tAv_r6lsBGrL"
      },
      "source": [
        "pip install -U sentence-transformers"
      ],
      "execution_count": null,
      "outputs": []
    },
    {
      "cell_type": "code",
      "metadata": {
        "id": "nCsWMPU7tliw",
        "colab": {
          "base_uri": "https://localhost:8080/"
        },
        "outputId": "b8d48142-642b-40cc-8a5f-0bcd7641b2e4"
      },
      "source": [
        "!ls '/content/drive/My Drive/crm_contacts.csv'"
      ],
      "execution_count": null,
      "outputs": [
        {
          "output_type": "stream",
          "name": "stdout",
          "text": [
            "'/content/drive/My Drive/crm_contacts.csv'\n"
          ]
        }
      ]
    },
    {
      "cell_type": "code",
      "metadata": {
        "id": "wdIrx5mWuiHN"
      },
      "source": [
        "import pandas as pd\n",
        "from scipy import spatial\n",
        "from collections import Counter \n",
        "import numpy as np\n",
        "import re"
      ],
      "execution_count": 208,
      "outputs": []
    },
    {
      "cell_type": "code",
      "metadata": {
        "id": "bYXM4tsd2_wG"
      },
      "source": [
        "df_contacts = pd.read_csv('/content/drive/My Drive/crm_contacts.csv', na_values=' ') #replace blank cells with na\n",
        "df_persona = pd.read_csv('/content/drive/My Drive/buyer_persona_definition.csv')"
      ],
      "execution_count": 271,
      "outputs": []
    },
    {
      "cell_type": "markdown",
      "metadata": {
        "id": "ABSwcWFIbzzG"
      },
      "source": [
        "## **Data Preparation**\n",
        "\n",
        "Step 1: remove null & irrelevant values from CRM data\n",
        "\n",
        "Step 2: remove stop words in both datasets (of, de etc.). It is not necessary to use stopwords dictionaries.  "
      ]
    },
    {
      "cell_type": "code",
      "metadata": {
        "id": "OCU_wEVOciYM"
      },
      "source": [
        "df_contacts = df_contacts.replace('?', 'np.Nan').dropna() #remove null"
      ],
      "execution_count": 272,
      "outputs": []
    },
    {
      "cell_type": "code",
      "metadata": {
        "colab": {
          "base_uri": "https://localhost:8080/"
        },
        "id": "Ww2zFsoZ40TK",
        "outputId": "c4fd576e-262c-4d82-ba70-0bd2c550ed46"
      },
      "source": [
        "df_contacts = df_contacts[~df_contacts.jobtitle.str.contains('(site)|(try-for-free)')] #remove strings that contain irrelevant info"
      ],
      "execution_count": 273,
      "outputs": [
        {
          "output_type": "stream",
          "name": "stderr",
          "text": [
            "/usr/local/lib/python3.7/dist-packages/pandas/core/strings.py:2001: UserWarning: This pattern has match groups. To actually get the groups, use str.extract.\n",
            "  return func(self, *args, **kwargs)\n"
          ]
        }
      ]
    },
    {
      "cell_type": "code",
      "metadata": {
        "id": "akz3k8mwUaVA"
      },
      "source": [
        "#create stopword list\n",
        "stopwords = ['of', 'de', 'du', 'for', 'For', 'the', 'et', \"d'\"] \n",
        "space = ' '\n",
        "stopwords_dict = Counter(stopwords)"
      ],
      "execution_count": 274,
      "outputs": []
    },
    {
      "cell_type": "code",
      "metadata": {
        "id": "3CCPY_Jgy_jZ"
      },
      "source": [
        "#function to remove stopwords from job title\n",
        "def remove_stopwords (df_name, column_name):\n",
        "    clean = [space.join([word for word in name.split() if word not in stopwords_dict]) \\\n",
        "             for name in df_name[column_name]]\n",
        "    return clean"
      ],
      "execution_count": 275,
      "outputs": []
    },
    {
      "cell_type": "code",
      "metadata": {
        "id": "CrkRl7iFASTN"
      },
      "source": [
        "#function to remove special characters from job title\n",
        "def remove_sign(df_name, column_name):\n",
        "  clean = [re.sub('[|!@#$-.&/_+={}()]', ' ', text) for text in df_name[column_name]]\n",
        "  return clean"
      ],
      "execution_count": 276,
      "outputs": []
    },
    {
      "cell_type": "code",
      "metadata": {
        "id": "upPTxYr_0ioU"
      },
      "source": [
        "#add cleaned job titles to datasets\n",
        "df_persona['clean_title'] = remove_stopwords(df_persona, 'job_title')\n",
        "df_contacts['clean_title'] = remove_stopwords(df_contacts, 'jobtitle')"
      ],
      "execution_count": 277,
      "outputs": []
    },
    {
      "cell_type": "code",
      "metadata": {
        "id": "85EUlBEQB0df"
      },
      "source": [
        "df_persona['clean_title'] = remove_sign(df_persona, 'clean_title')\n",
        "df_contacts['clean_title'] = remove_sign(df_contacts, 'clean_title')"
      ],
      "execution_count": 278,
      "outputs": []
    },
    {
      "cell_type": "markdown",
      "metadata": {
        "id": "oSjeVkhSFmEp"
      },
      "source": [
        "## **Use NLP model for matching**"
      ]
    },
    {
      "cell_type": "code",
      "metadata": {
        "id": "UXNykcb7Ge4G"
      },
      "source": [
        "#pre-trained sentence transformer model\n",
        "from sentence_transformers import SentenceTransformer\n",
        "model = SentenceTransformer('distiluse-base-multilingual-cased-v1')"
      ],
      "execution_count": 279,
      "outputs": []
    },
    {
      "cell_type": "code",
      "metadata": {
        "id": "yFOr_rmNZNg-"
      },
      "source": [
        "def text_vectorizer (df_name, column_name):\n",
        "  vector = [model.encode(title) for title in df_name[column_name]]\n",
        "  \n",
        "  return vector"
      ],
      "execution_count": 280,
      "outputs": []
    },
    {
      "cell_type": "code",
      "metadata": {
        "id": "dFBntsr_2ReF"
      },
      "source": [
        "#add vector to datasets\n",
        "df_persona['vector'] = text_vectorizer (df_persona, 'clean_title')\n",
        "df_contacts['vector'] = text_vectorizer (df_contacts, 'clean_title')"
      ],
      "execution_count": 281,
      "outputs": []
    },
    {
      "cell_type": "code",
      "metadata": {
        "id": "BqNmM38sfuSt"
      },
      "source": [
        "#function to calculate cosine similarity\n",
        "def cosine_similarity(v1,v2):\n",
        "  return 1-spatial.distance.cosine(v1, v2)"
      ],
      "execution_count": 282,
      "outputs": []
    },
    {
      "cell_type": "code",
      "metadata": {
        "id": "sMVGFzAhF1hp"
      },
      "source": [
        "#find a match for each job title in CRM data using the max value of cosine similarity -- REWRITE\n",
        "\n",
        "similarity = {}\n",
        "i = 0\n",
        "for vec1 in df_contacts['vector']:\n",
        "  similarity_persona = []\n",
        "  for vec2 in df_persona['vector']:\n",
        "    similarity_persona.append(cosine_similarity(vec1, vec2))\n",
        "  \n",
        "  max_similiarity = max(similarity_persona)\n",
        "  persona_id = similarity_persona.index(max_similiarity) #\n",
        "  similarity[i] = [max_similiarity, persona_id]\n",
        "  i += 1\n"
      ],
      "execution_count": 233,
      "outputs": []
    },
    {
      "cell_type": "code",
      "metadata": {
        "id": "8DzWuNugiBA4"
      },
      "source": [
        "table = pd.DataFrame.from_dict(similarity, orient='index')\n",
        "table.columns =['similarity_score', 'persona_job_index']"
      ],
      "execution_count": 236,
      "outputs": []
    },
    {
      "cell_type": "code",
      "metadata": {
        "id": "qvigQuZn2Q7p"
      },
      "source": [
        "#join tables using index \n",
        "table_full = table.join(df_contacts[['jobtitle', 'email', 'vector']]\\\n",
        "                       ).merge(df_persona[['buyer_persona', 'job_title', 'vector']], \\\n",
        "                               left_on = 'persona_job_index', right_index = True)"
      ],
      "execution_count": 251,
      "outputs": []
    },
    {
      "cell_type": "code",
      "metadata": {
        "id": "LQdaZ0MalDYu"
      },
      "source": [
        "table_good_score = table_full.loc[table_full['similarity_score'] > 0.9]"
      ],
      "execution_count": 255,
      "outputs": []
    },
    {
      "cell_type": "code",
      "metadata": {
        "id": "0Da23wHqw9Gs"
      },
      "source": [
        "table_full.to_csv('/content/drive/My Drive/table_full.csv', index = False)"
      ],
      "execution_count": 295,
      "outputs": []
    },
    {
      "cell_type": "markdown",
      "metadata": {
        "id": "ZDxJZ8BPpbGJ"
      },
      "source": [
        "------------------------------------------------------------------------------"
      ]
    },
    {
      "cell_type": "code",
      "metadata": {
        "id": "Iqdh01Canjsx"
      },
      "source": [
        "vec_crm = []\n",
        "vec_persona = []\n",
        "similarity = []\n",
        "for vec1 in df_contacts['vector']:\n",
        "  for vec2 in df_persona['vector']:\n",
        "    if (cosine_similarity(vec1, vec2)) >= 0.85: #set thereshold for high-level similarity \n",
        "      vec_crm.append(vec1)\n",
        "      vec_persona.append(vec2)\n",
        "      similarity.append(cosine_similarity(vec1, vec2))"
      ],
      "execution_count": 283,
      "outputs": []
    },
    {
      "cell_type": "code",
      "metadata": {
        "id": "FzxdvPOlxCXf"
      },
      "source": [
        "table = pd.DataFrame({'vec_crm': vec_crm,\n",
        "                     'vec_persona': vec_persona,\n",
        "                      'similarity': similarity})"
      ],
      "execution_count": 284,
      "outputs": []
    },
    {
      "cell_type": "code",
      "metadata": {
        "id": "PTG-e73kp_BJ"
      },
      "source": [
        "#find job titles & persona\n",
        "table_persona = df_persona[df_persona['vector'].isin(vec_persona)]\n",
        "table_contacts = df_contacts[df_contacts['vector'].isin(vec_crm)]"
      ],
      "execution_count": 285,
      "outputs": []
    },
    {
      "cell_type": "code",
      "metadata": {
        "id": "4i3KL8GTkmiB"
      },
      "source": [
        "#convert np array to str so I can use the vector as a key for joining tables\n",
        "list1 = []\n",
        "list2 = []\n",
        "for i in range(len(table)):\n",
        "  list1.append(np.array_str(table.iloc[i]['vec_crm']))\n",
        "  list2.append(np.array_str(table.iloc[i]['vec_persona']))\n",
        "\n",
        "table['vec1'] = list1\n",
        "table['vec2'] = list2"
      ],
      "execution_count": 286,
      "outputs": []
    },
    {
      "cell_type": "code",
      "metadata": {
        "id": "iiqCoei4msSX"
      },
      "source": [
        "ls = []\n",
        "for i in range(len(table_contacts)):\n",
        "  ls.append(np.array_str(table_contacts.iloc[i]['vector']))\n",
        "\n",
        "table_contacts['vec_str'] = ls"
      ],
      "execution_count": null,
      "outputs": []
    },
    {
      "cell_type": "code",
      "metadata": {
        "id": "r5IsG18ZntB2"
      },
      "source": [
        "ls = []\n",
        "for i in range(len(table_persona)):\n",
        "  ls.append(np.array_str(table_persona.iloc[i]['vector']))\n",
        "\n",
        "table_persona['vec_str'] = ls"
      ],
      "execution_count": null,
      "outputs": []
    },
    {
      "cell_type": "code",
      "metadata": {
        "id": "rBq8WU4knIhF"
      },
      "source": [
        "#join table\n",
        "table1 = table.merge(table_contacts, left_on = 'vec1', right_on = 'vec_str')\n",
        "table2 = table1.merge(table_persona, left_on = 'vec2', right_on = 'vec_str')\n",
        "final = table2[['similarity', 'jobtitle', 'email', 'buyer_persona', 'job_title']]"
      ],
      "execution_count": 289,
      "outputs": []
    },
    {
      "cell_type": "code",
      "metadata": {
        "id": "-bYl9dzYtC5Q"
      },
      "source": [
        "result = final.drop_duplicates()"
      ],
      "execution_count": 292,
      "outputs": []
    },
    {
      "cell_type": "code",
      "metadata": {
        "colab": {
          "base_uri": "https://localhost:8080/",
          "height": 424
        },
        "id": "MAf048t8pkrj",
        "outputId": "24f0a94f-c930-40de-a815-81b641105dd7"
      },
      "source": [
        "#final output\n",
        "final.drop_duplicates()"
      ],
      "execution_count": null,
      "outputs": [
        {
          "output_type": "execute_result",
          "data": {
            "text/html": [
              "<div>\n",
              "<style scoped>\n",
              "    .dataframe tbody tr th:only-of-type {\n",
              "        vertical-align: middle;\n",
              "    }\n",
              "\n",
              "    .dataframe tbody tr th {\n",
              "        vertical-align: top;\n",
              "    }\n",
              "\n",
              "    .dataframe thead th {\n",
              "        text-align: right;\n",
              "    }\n",
              "</style>\n",
              "<table border=\"1\" class=\"dataframe\">\n",
              "  <thead>\n",
              "    <tr style=\"text-align: right;\">\n",
              "      <th></th>\n",
              "      <th>similarity</th>\n",
              "      <th>jobtitle</th>\n",
              "      <th>email</th>\n",
              "      <th>buyer_persona</th>\n",
              "      <th>job_title</th>\n",
              "    </tr>\n",
              "  </thead>\n",
              "  <tbody>\n",
              "    <tr>\n",
              "      <th>0</th>\n",
              "      <td>0.874570</td>\n",
              "      <td>Senior Engineer</td>\n",
              "      <td>chibuzor.obilom@gmail.com</td>\n",
              "      <td>Practitioner</td>\n",
              "      <td>Senior BI Engineer</td>\n",
              "    </tr>\n",
              "    <tr>\n",
              "      <th>1</th>\n",
              "      <td>0.874570</td>\n",
              "      <td>Senior Engineer</td>\n",
              "      <td>vishal.dwivedi9@gmail.com</td>\n",
              "      <td>Practitioner</td>\n",
              "      <td>Senior BI Engineer</td>\n",
              "    </tr>\n",
              "    <tr>\n",
              "      <th>2</th>\n",
              "      <td>0.874570</td>\n",
              "      <td>Senior Engineer</td>\n",
              "      <td>skadir@tereos.com</td>\n",
              "      <td>Practitioner</td>\n",
              "      <td>Senior BI Engineer</td>\n",
              "    </tr>\n",
              "    <tr>\n",
              "      <th>9</th>\n",
              "      <td>0.879964</td>\n",
              "      <td>Senior Associate Engineer</td>\n",
              "      <td>rkalavakuntla@tasengg.com</td>\n",
              "      <td>Practitioner</td>\n",
              "      <td>Senior BI Engineer</td>\n",
              "    </tr>\n",
              "    <tr>\n",
              "      <th>10</th>\n",
              "      <td>0.932112</td>\n",
              "      <td>Manager of Sales</td>\n",
              "      <td>iamguan@yeah.net</td>\n",
              "      <td>Business Leader</td>\n",
              "      <td>Sales Director</td>\n",
              "    </tr>\n",
              "    <tr>\n",
              "      <th>...</th>\n",
              "      <td>...</td>\n",
              "      <td>...</td>\n",
              "      <td>...</td>\n",
              "      <td>...</td>\n",
              "      <td>...</td>\n",
              "    </tr>\n",
              "    <tr>\n",
              "      <th>2049</th>\n",
              "      <td>0.900356</td>\n",
              "      <td>Business Intelligence Project Leader</td>\n",
              "      <td>kasper.vrees@danone.com</td>\n",
              "      <td>Practitioner</td>\n",
              "      <td>Chef De Projet Business Intelligence</td>\n",
              "    </tr>\n",
              "    <tr>\n",
              "      <th>2050</th>\n",
              "      <td>0.850429</td>\n",
              "      <td>Chargée de projet Business Intelligence</td>\n",
              "      <td>claire.jourdan-sestier@isere.fr</td>\n",
              "      <td>Practitioner</td>\n",
              "      <td>Chef De Projet Business Intelligence</td>\n",
              "    </tr>\n",
              "    <tr>\n",
              "      <th>2051</th>\n",
              "      <td>0.866969</td>\n",
              "      <td>Business Intelligence Project Leader</td>\n",
              "      <td>kasper.vrees@danone.com</td>\n",
              "      <td>Practitioner</td>\n",
              "      <td>Chef de Projet Business Intelligence</td>\n",
              "    </tr>\n",
              "    <tr>\n",
              "      <th>2052</th>\n",
              "      <td>0.866108</td>\n",
              "      <td>Respo Analyse Données Finance</td>\n",
              "      <td>michel.ndiaye@fnacdarty.com</td>\n",
              "      <td>Practitioner</td>\n",
              "      <td>Financial Analyst</td>\n",
              "    </tr>\n",
              "    <tr>\n",
              "      <th>2053</th>\n",
              "      <td>0.921947</td>\n",
              "      <td>Chargées d'Analyses Financières</td>\n",
              "      <td>isabelle.duffau@pole-emploi.fr</td>\n",
              "      <td>Practitioner</td>\n",
              "      <td>Financial Analyst</td>\n",
              "    </tr>\n",
              "  </tbody>\n",
              "</table>\n",
              "<p>401 rows × 5 columns</p>\n",
              "</div>"
            ],
            "text/plain": [
              "      similarity  ...                             job_title\n",
              "0       0.874570  ...                    Senior BI Engineer\n",
              "1       0.874570  ...                    Senior BI Engineer\n",
              "2       0.874570  ...                    Senior BI Engineer\n",
              "9       0.879964  ...                    Senior BI Engineer\n",
              "10      0.932112  ...                        Sales Director\n",
              "...          ...  ...                                   ...\n",
              "2049    0.900356  ...  Chef De Projet Business Intelligence\n",
              "2050    0.850429  ...  Chef De Projet Business Intelligence\n",
              "2051    0.866969  ...  Chef de Projet Business Intelligence\n",
              "2052    0.866108  ...                     Financial Analyst\n",
              "2053    0.921947  ...                     Financial Analyst\n",
              "\n",
              "[401 rows x 5 columns]"
            ]
          },
          "metadata": {},
          "execution_count": 110
        }
      ]
    },
    {
      "cell_type": "code",
      "metadata": {
        "id": "eT5b1aVC29I_"
      },
      "source": [
        "#use faker to anonymise email data"
      ],
      "execution_count": null,
      "outputs": []
    },
    {
      "cell_type": "code",
      "metadata": {
        "id": "CLiprnCUFBe2"
      },
      "source": [
        "from faker import Faker\n",
        "faker = Faker()\n",
        "for i in range():\n",
        "  email = (f'Company email: {faker.company_email()}')"
      ],
      "execution_count": null,
      "outputs": []
    },
    {
      "cell_type": "code",
      "metadata": {
        "id": "fGu0rhlk3ERx"
      },
      "source": [
        "#work on documentation "
      ],
      "execution_count": null,
      "outputs": []
    }
  ]
}