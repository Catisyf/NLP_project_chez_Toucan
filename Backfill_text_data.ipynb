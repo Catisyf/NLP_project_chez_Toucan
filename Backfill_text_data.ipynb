{
  "nbformat": 4,
  "nbformat_minor": 0,
  "metadata": {
    "colab": {
      "name": "Welcome to Colaboratory",
      "provenance": [],
      "collapsed_sections": [],
      "include_colab_link": true
    },
    "kernelspec": {
      "display_name": "Python 3",
      "name": "python3"
    }
  },
  "cells": [
    {
      "cell_type": "markdown",
      "metadata": {
        "id": "view-in-github",
        "colab_type": "text"
      },
      "source": [
        "<a href=\"https://colab.research.google.com/github/Catisyf/Python-projects-chez-Toucan/blob/main/Backfill_text_data.ipynb\" target=\"_parent\"><img src=\"https://colab.research.google.com/assets/colab-badge.svg\" alt=\"Open In Colab\"/></a>"
      ]
    },
    {
      "cell_type": "code",
      "metadata": {
        "id": "pVZPHERqJhuF",
        "colab": {
          "base_uri": "https://localhost:8080/"
        },
        "outputId": "85aff3e5-2bb1-42cd-b8a0-98eb02ac69d6"
      },
      "source": [
        "from google.colab import drive\n",
        "drive.mount('/content/drive')"
      ],
      "execution_count": null,
      "outputs": [
        {
          "output_type": "stream",
          "name": "stdout",
          "text": [
            "Mounted at /content/drive\n"
          ]
        }
      ]
    },
    {
      "cell_type": "code",
      "metadata": {
        "id": "nCsWMPU7tliw",
        "colab": {
          "base_uri": "https://localhost:8080/"
        },
        "outputId": "b8d48142-642b-40cc-8a5f-0bcd7641b2e4"
      },
      "source": [
        "!ls '/content/drive/My Drive/crm_contacts.csv'"
      ],
      "execution_count": null,
      "outputs": [
        {
          "output_type": "stream",
          "name": "stdout",
          "text": [
            "'/content/drive/My Drive/crm_contacts.csv'\n"
          ]
        }
      ]
    },
    {
      "cell_type": "code",
      "metadata": {
        "id": "wdIrx5mWuiHN"
      },
      "source": [
        "import pandas as pd\n",
        "from scipy import spatial"
      ],
      "execution_count": null,
      "outputs": []
    },
    {
      "cell_type": "code",
      "metadata": {
        "id": "bYXM4tsd2_wG"
      },
      "source": [
        "pd_contacts = pd.read_csv('/content/drive/My Drive/crm_contacts.csv')\n",
        "pd_persona = pd.read_csv('/content/drive/My Drive/buyer_persona_definition.csv')"
      ],
      "execution_count": null,
      "outputs": []
    },
    {
      "cell_type": "code",
      "metadata": {
        "id": "B4UG27Jnu6hB",
        "colab": {
          "base_uri": "https://localhost:8080/",
          "height": 424
        },
        "outputId": "f0d0f8e5-e337-4a74-8e30-7ed4569a3e5f"
      },
      "source": [
        "pd_contacts"
      ],
      "execution_count": null,
      "outputs": [
        {
          "output_type": "execute_result",
          "data": {
            "text/html": [
              "<div>\n",
              "<style scoped>\n",
              "    .dataframe tbody tr th:only-of-type {\n",
              "        vertical-align: middle;\n",
              "    }\n",
              "\n",
              "    .dataframe tbody tr th {\n",
              "        vertical-align: top;\n",
              "    }\n",
              "\n",
              "    .dataframe thead th {\n",
              "        text-align: right;\n",
              "    }\n",
              "</style>\n",
              "<table border=\"1\" class=\"dataframe\">\n",
              "  <thead>\n",
              "    <tr style=\"text-align: right;\">\n",
              "      <th></th>\n",
              "      <th>jobtitle</th>\n",
              "      <th>email</th>\n",
              "    </tr>\n",
              "  </thead>\n",
              "  <tbody>\n",
              "    <tr>\n",
              "      <th>0</th>\n",
              "      <td>Builder</td>\n",
              "      <td>joao.gonzalez@braskem.com</td>\n",
              "    </tr>\n",
              "    <tr>\n",
              "      <th>1</th>\n",
              "      <td>Singer-French songwriter</td>\n",
              "      <td>xlbjn@yahoo.es</td>\n",
              "    </tr>\n",
              "    <tr>\n",
              "      <th>2</th>\n",
              "      <td>Senior .NET Developer</td>\n",
              "      <td>kamilmrozek@gmail.com</td>\n",
              "    </tr>\n",
              "    <tr>\n",
              "      <th>3</th>\n",
              "      <td>Senior Analyst</td>\n",
              "      <td>slamcloud1@gmail.com</td>\n",
              "    </tr>\n",
              "    <tr>\n",
              "      <th>4</th>\n",
              "      <td>Finance Intern</td>\n",
              "      <td>osamaalqudah@mail.ru</td>\n",
              "    </tr>\n",
              "    <tr>\n",
              "      <th>...</th>\n",
              "      <td>...</td>\n",
              "      <td>...</td>\n",
              "    </tr>\n",
              "    <tr>\n",
              "      <th>25099</th>\n",
              "      <td>gmail (site)</td>\n",
              "      <td>geay.isabelle@gmail.com</td>\n",
              "    </tr>\n",
              "    <tr>\n",
              "      <th>25100</th>\n",
              "      <td>gmail (site)</td>\n",
              "      <td>maximin.daudiffret@gmail.com</td>\n",
              "    </tr>\n",
              "    <tr>\n",
              "      <th>25101</th>\n",
              "      <td>gmail (site)</td>\n",
              "      <td>cindygros1@gmail.com</td>\n",
              "    </tr>\n",
              "    <tr>\n",
              "      <th>25102</th>\n",
              "      <td>gmail (site)</td>\n",
              "      <td>ar.decision@gmail.com</td>\n",
              "    </tr>\n",
              "    <tr>\n",
              "      <th>25103</th>\n",
              "      <td>gmail (site)</td>\n",
              "      <td>chloe.fermine@fastuppartners.com</td>\n",
              "    </tr>\n",
              "  </tbody>\n",
              "</table>\n",
              "<p>25104 rows × 2 columns</p>\n",
              "</div>"
            ],
            "text/plain": [
              "                       jobtitle                             email\n",
              "0                       Builder         joao.gonzalez@braskem.com\n",
              "1      Singer-French songwriter                    xlbjn@yahoo.es\n",
              "2         Senior .NET Developer             kamilmrozek@gmail.com\n",
              "3                Senior Analyst              slamcloud1@gmail.com\n",
              "4                Finance Intern              osamaalqudah@mail.ru\n",
              "...                         ...                               ...\n",
              "25099              gmail (site)           geay.isabelle@gmail.com\n",
              "25100              gmail (site)      maximin.daudiffret@gmail.com\n",
              "25101              gmail (site)              cindygros1@gmail.com\n",
              "25102              gmail (site)             ar.decision@gmail.com\n",
              "25103              gmail (site)  chloe.fermine@fastuppartners.com\n",
              "\n",
              "[25104 rows x 2 columns]"
            ]
          },
          "metadata": {},
          "execution_count": 15
        }
      ]
    },
    {
      "cell_type": "code",
      "metadata": {
        "id": "tdda9vaXur5f",
        "colab": {
          "base_uri": "https://localhost:8080/",
          "height": 424
        },
        "outputId": "d2c5d8f3-9102-43fd-8e70-204b658f77fd"
      },
      "source": [
        "pd_persona"
      ],
      "execution_count": null,
      "outputs": [
        {
          "output_type": "execute_result",
          "data": {
            "text/html": [
              "<div>\n",
              "<style scoped>\n",
              "    .dataframe tbody tr th:only-of-type {\n",
              "        vertical-align: middle;\n",
              "    }\n",
              "\n",
              "    .dataframe tbody tr th {\n",
              "        vertical-align: top;\n",
              "    }\n",
              "\n",
              "    .dataframe thead th {\n",
              "        text-align: right;\n",
              "    }\n",
              "</style>\n",
              "<table border=\"1\" class=\"dataframe\">\n",
              "  <thead>\n",
              "    <tr style=\"text-align: right;\">\n",
              "      <th></th>\n",
              "      <th>buyer_persona</th>\n",
              "      <th>job_title</th>\n",
              "    </tr>\n",
              "  </thead>\n",
              "  <tbody>\n",
              "    <tr>\n",
              "      <th>0</th>\n",
              "      <td>Data Leader - CIO, CDO</td>\n",
              "      <td>CIO</td>\n",
              "    </tr>\n",
              "    <tr>\n",
              "      <th>1</th>\n",
              "      <td>Data Leader - CIO, CDO</td>\n",
              "      <td>CDO</td>\n",
              "    </tr>\n",
              "    <tr>\n",
              "      <th>2</th>\n",
              "      <td>Data Leader - CIO, CDO</td>\n",
              "      <td>Chief Information Officer</td>\n",
              "    </tr>\n",
              "    <tr>\n",
              "      <th>3</th>\n",
              "      <td>Data Leader - CIO, CDO</td>\n",
              "      <td>CIO</td>\n",
              "    </tr>\n",
              "    <tr>\n",
              "      <th>4</th>\n",
              "      <td>Data Leader - CIO, CDO</td>\n",
              "      <td>Head of IT</td>\n",
              "    </tr>\n",
              "    <tr>\n",
              "      <th>...</th>\n",
              "      <td>...</td>\n",
              "      <td>...</td>\n",
              "    </tr>\n",
              "    <tr>\n",
              "      <th>126</th>\n",
              "      <td>Practitioner</td>\n",
              "      <td>Chef de Projet Senior BI</td>\n",
              "    </tr>\n",
              "    <tr>\n",
              "      <th>127</th>\n",
              "      <td>Practitioner</td>\n",
              "      <td>Chef de Projet Senior Business Intelligence</td>\n",
              "    </tr>\n",
              "    <tr>\n",
              "      <th>128</th>\n",
              "      <td>Practitioner</td>\n",
              "      <td>Chef de Projet Senior Insights</td>\n",
              "    </tr>\n",
              "    <tr>\n",
              "      <th>129</th>\n",
              "      <td>Practitioner</td>\n",
              "      <td>Chef de Projet Senior Analytics</td>\n",
              "    </tr>\n",
              "    <tr>\n",
              "      <th>130</th>\n",
              "      <td>Practitioner</td>\n",
              "      <td>Chef de Projet Senior SI</td>\n",
              "    </tr>\n",
              "  </tbody>\n",
              "</table>\n",
              "<p>131 rows × 2 columns</p>\n",
              "</div>"
            ],
            "text/plain": [
              "              buyer_persona                                    job_title\n",
              "0    Data Leader - CIO, CDO                                          CIO\n",
              "1    Data Leader - CIO, CDO                                          CDO\n",
              "2    Data Leader - CIO, CDO                    Chief Information Officer\n",
              "3    Data Leader - CIO, CDO                                          CIO\n",
              "4    Data Leader - CIO, CDO                                   Head of IT\n",
              "..                      ...                                          ...\n",
              "126            Practitioner                     Chef de Projet Senior BI\n",
              "127            Practitioner  Chef de Projet Senior Business Intelligence\n",
              "128            Practitioner               Chef de Projet Senior Insights\n",
              "129            Practitioner              Chef de Projet Senior Analytics\n",
              "130            Practitioner                     Chef de Projet Senior SI\n",
              "\n",
              "[131 rows x 2 columns]"
            ]
          },
          "metadata": {},
          "execution_count": 13
        }
      ]
    },
    {
      "cell_type": "code",
      "metadata": {
        "id": "sgK03LAH8H89"
      },
      "source": [
        "# Data preparation: 1. remove null values 2. remove stop words (of, de, d')"
      ],
      "execution_count": null,
      "outputs": []
    },
    {
      "cell_type": "code",
      "metadata": {
        "id": "X6owKPa-GVjN"
      },
      "source": [
        "pip install -U sentence-transformers"
      ],
      "execution_count": null,
      "outputs": []
    },
    {
      "cell_type": "code",
      "metadata": {
        "id": "UXNykcb7Ge4G"
      },
      "source": [
        "#Pre-trained sentence transformer model\n",
        "from sentence_transformers import SentenceTransformer\n",
        "model = SentenceTransformer('distiluse-base-multilingual-cased-v1')"
      ],
      "execution_count": null,
      "outputs": []
    },
    {
      "cell_type": "code",
      "metadata": {
        "id": "RCPQgP49Qiwq"
      },
      "source": [
        "doc1 = ['BI Analyst', 'Data Analyst', 'head product', 'director marketing']\n",
        "doc2 = ['BI engineer', 'Business Analyst', 'marketing manager', 'chef produit']"
      ],
      "execution_count": 82,
      "outputs": []
    },
    {
      "cell_type": "code",
      "metadata": {
        "id": "FyF7yjncG-s0"
      },
      "source": [
        "#Sentences are encoded by calling model.encode()\n",
        "vector1 = []\n",
        "for i in doc1:\n",
        "  vector1.append(model.encode(i))"
      ],
      "execution_count": 94,
      "outputs": []
    },
    {
      "cell_type": "code",
      "metadata": {
        "id": "8bLnmhWVTj6k"
      },
      "source": [
        "vector2 = []\n",
        "for i in doc2:\n",
        "  vector2.append(model.encode(i))"
      ],
      "execution_count": 97,
      "outputs": []
    },
    {
      "cell_type": "code",
      "metadata": {
        "id": "HSFQlre4Tzvl"
      },
      "source": [
        "from scipy import spatial"
      ],
      "execution_count": 98,
      "outputs": []
    },
    {
      "cell_type": "code",
      "metadata": {
        "id": "QibGf_7LT1sJ",
        "outputId": "def99d07-3fbc-4efa-f3b8-b30b5948d8b1",
        "colab": {
          "base_uri": "https://localhost:8080/"
        }
      },
      "source": [
        "for i in vector1:\n",
        "  for word in vector2:\n",
        "    print(1-spatial.distance.cosine(i, word))"
      ],
      "execution_count": 104,
      "outputs": [
        {
          "output_type": "stream",
          "name": "stdout",
          "text": [
            "0.5518336892127991\n",
            "0.7072204947471619\n",
            "0.25986459851264954\n",
            "0.16073334217071533\n",
            "0.21548403799533844\n",
            "0.6826202869415283\n",
            "0.21297219395637512\n",
            "0.16637268662452698\n",
            "0.1410192996263504\n",
            "0.15818069875240326\n",
            "0.32987120747566223\n",
            "0.7505401968955994\n",
            "0.2817416787147522\n",
            "0.30751150846481323\n",
            "0.9472594261169434\n",
            "0.4391409754753113\n"
          ]
        }
      ]
    }
  ]
}