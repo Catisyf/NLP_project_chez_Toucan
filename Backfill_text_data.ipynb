{
  "nbformat": 4,
  "nbformat_minor": 0,
  "metadata": {
    "colab": {
      "name": "Welcome to Colaboratory",
      "provenance": [],
      "collapsed_sections": [],
      "include_colab_link": true
    },
    "kernelspec": {
      "display_name": "Python 3",
      "name": "python3"
    }
  },
  "cells": [
    {
      "cell_type": "markdown",
      "metadata": {
        "id": "view-in-github",
        "colab_type": "text"
      },
      "source": [
        "<a href=\"https://colab.research.google.com/github/Catisyf/Python-projects-chez-Toucan/blob/main/Backfill_text_data.ipynb\" target=\"_parent\"><img src=\"https://colab.research.google.com/assets/colab-badge.svg\" alt=\"Open In Colab\"/></a>"
      ]
    },
    {
      "cell_type": "code",
      "metadata": {
        "id": "pVZPHERqJhuF",
        "colab": {
          "base_uri": "https://localhost:8080/"
        },
        "outputId": "e91ac141-273b-456c-bdbd-071dffe6a2a4"
      },
      "source": [
        "from google.colab import drive\n",
        "drive.mount('/content/drive')"
      ],
      "execution_count": 2,
      "outputs": [
        {
          "output_type": "stream",
          "name": "stdout",
          "text": [
            "Drive already mounted at /content/drive; to attempt to forcibly remount, call drive.mount(\"/content/drive\", force_remount=True).\n"
          ]
        }
      ]
    },
    {
      "cell_type": "code",
      "metadata": {
        "id": "tAv_r6lsBGrL"
      },
      "source": [
        "pip install -U sentence-transformers"
      ],
      "execution_count": null,
      "outputs": []
    },
    {
      "cell_type": "code",
      "metadata": {
        "id": "nCsWMPU7tliw",
        "colab": {
          "base_uri": "https://localhost:8080/"
        },
        "outputId": "b8d48142-642b-40cc-8a5f-0bcd7641b2e4"
      },
      "source": [
        "!ls '/content/drive/My Drive/crm_contacts.csv'"
      ],
      "execution_count": null,
      "outputs": [
        {
          "output_type": "stream",
          "name": "stdout",
          "text": [
            "'/content/drive/My Drive/crm_contacts.csv'\n"
          ]
        }
      ]
    },
    {
      "cell_type": "code",
      "metadata": {
        "id": "wdIrx5mWuiHN"
      },
      "source": [
        "import pandas as pd\n",
        "from scipy import spatial\n",
        "from collections import Counter #reduce processing time"
      ],
      "execution_count": 4,
      "outputs": []
    },
    {
      "cell_type": "code",
      "metadata": {
        "id": "bYXM4tsd2_wG"
      },
      "source": [
        "df_contacts = pd.read_csv('/content/drive/My Drive/crm_contacts.csv', na_values=' ') #replace blank cells with na\n",
        "df_persona = pd.read_csv('/content/drive/My Drive/buyer_persona_definition.csv')"
      ],
      "execution_count": 5,
      "outputs": []
    },
    {
      "cell_type": "markdown",
      "metadata": {
        "id": "ABSwcWFIbzzG"
      },
      "source": [
        "## **Data Preparation**\n",
        "\n",
        "Step 1: remove null & irrelevant values from CRM data\n",
        "\n",
        "Step 2: remove stop words in both datasets (of, de etc.). It is not necessary to use stopwords dictionaries.  "
      ]
    },
    {
      "cell_type": "code",
      "metadata": {
        "id": "OCU_wEVOciYM"
      },
      "source": [
        "df_contacts = df_contacts.replace('?', 'np.Nan').dropna() #remove null"
      ],
      "execution_count": 6,
      "outputs": []
    },
    {
      "cell_type": "code",
      "metadata": {
        "colab": {
          "base_uri": "https://localhost:8080/"
        },
        "id": "Ww2zFsoZ40TK",
        "outputId": "b2ecc33a-1054-451d-d5b3-04002d9844d2"
      },
      "source": [
        "df_contacts = df_contacts[~df_contacts.jobtitle.str.contains('(site)|(try-for-free)')] #remove strings that contain irrelevant info"
      ],
      "execution_count": 7,
      "outputs": [
        {
          "output_type": "stream",
          "name": "stderr",
          "text": [
            "/usr/local/lib/python3.7/dist-packages/pandas/core/strings.py:2001: UserWarning: This pattern has match groups. To actually get the groups, use str.extract.\n",
            "  return func(self, *args, **kwargs)\n"
          ]
        }
      ]
    },
    {
      "cell_type": "code",
      "metadata": {
        "id": "akz3k8mwUaVA"
      },
      "source": [
        "stopwords = ['of', 'de', 'du', 'for', 'For', 'the', 'et', '&', '/'] \n",
        "space = ' '\n",
        "stopwords_dict = Counter(stopwords)"
      ],
      "execution_count": 8,
      "outputs": []
    },
    {
      "cell_type": "code",
      "metadata": {
        "id": "PFpntpu7dfyg"
      },
      "source": [
        "clean = []\n",
        "for n in range(0,len(df_contacts)):\n",
        "  clean.append(space.join([word for word in df_contacts.iloc[n]['jobtitle'].split() \\\n",
        "                                                if word not in stopwords_dict])) #remove stopwords from persona data\n",
        "  \n",
        "df_contacts['clean_title'] = clean"
      ],
      "execution_count": 9,
      "outputs": []
    },
    {
      "cell_type": "code",
      "metadata": {
        "id": "ZtgtJNTJZGhf"
      },
      "source": [
        "clean = []\n",
        "for n in range(0,len(df_persona)):\n",
        "  clean.append(space.join([word for word in df_persona.iloc[n]['job_title'].split() \\\n",
        "                                                if word not in stopwords_dict])) #remove stopwords from persona data\n",
        "  \n",
        "df_persona['clean_title'] = clean"
      ],
      "execution_count": 10,
      "outputs": []
    },
    {
      "cell_type": "markdown",
      "metadata": {
        "id": "oSjeVkhSFmEp"
      },
      "source": [
        "## **Use NLP model for matching**"
      ]
    },
    {
      "cell_type": "code",
      "metadata": {
        "id": "UXNykcb7Ge4G"
      },
      "source": [
        "#Pre-trained sentence transformer model\n",
        "from sentence_transformers import SentenceTransformer\n",
        "model = SentenceTransformer('distiluse-base-multilingual-cased-v1')"
      ],
      "execution_count": 11,
      "outputs": []
    },
    {
      "cell_type": "code",
      "metadata": {
        "id": "FyF7yjncG-s0"
      },
      "source": [
        "#Vectorize cleaned job titles\n",
        "\n",
        "vector1 = []\n",
        "for i in range(0,len(df_contacts)):\n",
        "  vector1.append(model.encode(df_contacts.iloc[i]['clean_title']))\n",
        "\n",
        "df_contacts['vector'] = vector1"
      ],
      "execution_count": 12,
      "outputs": []
    },
    {
      "cell_type": "code",
      "metadata": {
        "id": "ytNjHiQkbIbB"
      },
      "source": [
        "vector2 = []\n",
        "for i in range(0,len(df_persona)):\n",
        "  vector2.append(model.encode(df_persona.iloc[i]['clean_title']))\n",
        "\n",
        "df_persona['vector'] = vector2"
      ],
      "execution_count": 24,
      "outputs": []
    },
    {
      "cell_type": "code",
      "metadata": {
        "id": "GOTrRjvA7sbi"
      },
      "source": [
        "df_contacts.to_csv(r'/content/drive/My Drive/crm.csv', index = False)"
      ],
      "execution_count": 22,
      "outputs": []
    },
    {
      "cell_type": "code",
      "metadata": {
        "id": "obHbdQP8767I"
      },
      "source": [
        "df_persona.to_csv(r'/content/drive/My Drive/persona.csv', index = False)"
      ],
      "execution_count": 25,
      "outputs": []
    },
    {
      "cell_type": "code",
      "metadata": {
        "id": "Q4qFo8rNZRS_"
      },
      "source": [
        "#def cosine_similarity (x,y):\n",
        "  #result = 1-spatial.distance.cosine(x, y)\n",
        "  #return result"
      ],
      "execution_count": null,
      "outputs": []
    },
    {
      "cell_type": "code",
      "metadata": {
        "id": "qKgtgYi3fxXu"
      },
      "source": [
        "vec_crm = []\n",
        "vec_persona = []\n",
        "similarity = []\n",
        "for vec1 in df_contacts['vector']:\n",
        "  for vec2 in df_persona['vector']:\n",
        "    if (1-spatial.distance.cosine(vec1, vec2)) >= 0.85: #set thereshold for high-level similarity between crm job titles and toucan definition \n",
        "      vec_crm.append(vec1)\n",
        "      vec_persona.append(vec2)\n",
        "      similarity.append(1-spatial.distance.cosine(vec1, vec2))"
      ],
      "execution_count": 34,
      "outputs": []
    },
    {
      "cell_type": "code",
      "metadata": {
        "id": "FzxdvPOlxCXf"
      },
      "source": [
        "table = pd.DataFrame({'vec_crm': vec_crm,\n",
        "                     'vec_persona': vec_persona,\n",
        "                      'similarity': similarity})"
      ],
      "execution_count": 59,
      "outputs": []
    },
    {
      "cell_type": "code",
      "metadata": {
        "colab": {
          "base_uri": "https://localhost:8080/",
          "height": 424
        },
        "id": "u_izAqHm6t25",
        "outputId": "b60d04dc-d65c-4e94-845c-e263785d255f"
      },
      "source": [
        "table"
      ],
      "execution_count": 60,
      "outputs": [
        {
          "output_type": "execute_result",
          "data": {
            "text/html": [
              "<div>\n",
              "<style scoped>\n",
              "    .dataframe tbody tr th:only-of-type {\n",
              "        vertical-align: middle;\n",
              "    }\n",
              "\n",
              "    .dataframe tbody tr th {\n",
              "        vertical-align: top;\n",
              "    }\n",
              "\n",
              "    .dataframe thead th {\n",
              "        text-align: right;\n",
              "    }\n",
              "</style>\n",
              "<table border=\"1\" class=\"dataframe\">\n",
              "  <thead>\n",
              "    <tr style=\"text-align: right;\">\n",
              "      <th></th>\n",
              "      <th>vec_crm</th>\n",
              "      <th>vec_persona</th>\n",
              "      <th>similarity</th>\n",
              "    </tr>\n",
              "  </thead>\n",
              "  <tbody>\n",
              "    <tr>\n",
              "      <th>0</th>\n",
              "      <td>[0.016104918, 0.01589653, -0.037263863, -0.016...</td>\n",
              "      <td>[0.012951195, 0.011007603, -0.002596906, -0.01...</td>\n",
              "      <td>0.874570</td>\n",
              "    </tr>\n",
              "    <tr>\n",
              "      <th>1</th>\n",
              "      <td>[0.02564861, 0.005234625, -0.077426195, 0.0211...</td>\n",
              "      <td>[0.0062408005, 0.017177565, -0.086252905, 0.02...</td>\n",
              "      <td>0.932112</td>\n",
              "    </tr>\n",
              "    <tr>\n",
              "      <th>2</th>\n",
              "      <td>[-0.047285523, 0.06932076, -0.0064845555, 0.02...</td>\n",
              "      <td>[-0.025777908, 0.06288852, -0.019013725, 0.022...</td>\n",
              "      <td>0.945942</td>\n",
              "    </tr>\n",
              "    <tr>\n",
              "      <th>3</th>\n",
              "      <td>[0.02134378, 0.023986489, -0.02848963, -0.0211...</td>\n",
              "      <td>[0.012951195, 0.011007603, -0.002596906, -0.01...</td>\n",
              "      <td>0.879964</td>\n",
              "    </tr>\n",
              "    <tr>\n",
              "      <th>4</th>\n",
              "      <td>[-0.029905481, 0.095552064, 0.0024888797, 0.00...</td>\n",
              "      <td>[-0.04500205, 0.096511535, 0.03392309, 0.04132...</td>\n",
              "      <td>0.856016</td>\n",
              "    </tr>\n",
              "    <tr>\n",
              "      <th>...</th>\n",
              "      <td>...</td>\n",
              "      <td>...</td>\n",
              "      <td>...</td>\n",
              "    </tr>\n",
              "    <tr>\n",
              "      <th>405</th>\n",
              "      <td>[0.0124193635, -0.06058235, -0.0136015555, 0.0...</td>\n",
              "      <td>[0.012346001, -0.034419905, 0.010265383, 0.040...</td>\n",
              "      <td>0.907719</td>\n",
              "    </tr>\n",
              "    <tr>\n",
              "      <th>406</th>\n",
              "      <td>[-0.039011903, -0.04080392, 0.020483527, 0.045...</td>\n",
              "      <td>[-0.034476522, -0.027893739, 0.024168175, 0.02...</td>\n",
              "      <td>0.921947</td>\n",
              "    </tr>\n",
              "    <tr>\n",
              "      <th>407</th>\n",
              "      <td>[-0.050758168, 0.027393581, -0.00058877113, 0....</td>\n",
              "      <td>[-0.039283436, 0.028995229, 0.026557157, 0.043...</td>\n",
              "      <td>0.874555</td>\n",
              "    </tr>\n",
              "    <tr>\n",
              "      <th>408</th>\n",
              "      <td>[-0.004294157, 0.01826609, 0.0045741037, 0.037...</td>\n",
              "      <td>[-0.009512056, 0.01465146, 0.001745046, 0.0302...</td>\n",
              "      <td>0.992154</td>\n",
              "    </tr>\n",
              "    <tr>\n",
              "      <th>409</th>\n",
              "      <td>[0.022173842, -0.017844371, 0.024932103, -0.00...</td>\n",
              "      <td>[-0.0034108798, -0.018851664, 0.026054204, 0.0...</td>\n",
              "      <td>0.893954</td>\n",
              "    </tr>\n",
              "  </tbody>\n",
              "</table>\n",
              "<p>410 rows × 3 columns</p>\n",
              "</div>"
            ],
            "text/plain": [
              "                                               vec_crm  ... similarity\n",
              "0    [0.016104918, 0.01589653, -0.037263863, -0.016...  ...   0.874570\n",
              "1    [0.02564861, 0.005234625, -0.077426195, 0.0211...  ...   0.932112\n",
              "2    [-0.047285523, 0.06932076, -0.0064845555, 0.02...  ...   0.945942\n",
              "3    [0.02134378, 0.023986489, -0.02848963, -0.0211...  ...   0.879964\n",
              "4    [-0.029905481, 0.095552064, 0.0024888797, 0.00...  ...   0.856016\n",
              "..                                                 ...  ...        ...\n",
              "405  [0.0124193635, -0.06058235, -0.0136015555, 0.0...  ...   0.907719\n",
              "406  [-0.039011903, -0.04080392, 0.020483527, 0.045...  ...   0.921947\n",
              "407  [-0.050758168, 0.027393581, -0.00058877113, 0....  ...   0.874555\n",
              "408  [-0.004294157, 0.01826609, 0.0045741037, 0.037...  ...   0.992154\n",
              "409  [0.022173842, -0.017844371, 0.024932103, -0.00...  ...   0.893954\n",
              "\n",
              "[410 rows x 3 columns]"
            ]
          },
          "metadata": {},
          "execution_count": 60
        }
      ]
    },
    {
      "cell_type": "code",
      "metadata": {
        "id": "124N0YrKxYkg"
      },
      "source": [
        "table_persona = df_persona[df_persona['vector'].isin(vec_persona)]\n",
        "table_contacts = df_contacts[df_contacts['vector'].isin(vec_crm)]"
      ],
      "execution_count": 37,
      "outputs": []
    },
    {
      "cell_type": "code",
      "metadata": {
        "colab": {
          "base_uri": "https://localhost:8080/",
          "height": 424
        },
        "id": "Flxyn1aU6mrJ",
        "outputId": "5f83c73e-8cab-4608-a51b-acb6d3399839"
      },
      "source": [
        "table_contacts[['jobtitle', 'email', 'vector']]"
      ],
      "execution_count": 44,
      "outputs": [
        {
          "output_type": "execute_result",
          "data": {
            "text/html": [
              "<div>\n",
              "<style scoped>\n",
              "    .dataframe tbody tr th:only-of-type {\n",
              "        vertical-align: middle;\n",
              "    }\n",
              "\n",
              "    .dataframe tbody tr th {\n",
              "        vertical-align: top;\n",
              "    }\n",
              "\n",
              "    .dataframe thead th {\n",
              "        text-align: right;\n",
              "    }\n",
              "</style>\n",
              "<table border=\"1\" class=\"dataframe\">\n",
              "  <thead>\n",
              "    <tr style=\"text-align: right;\">\n",
              "      <th></th>\n",
              "      <th>jobtitle</th>\n",
              "      <th>email</th>\n",
              "      <th>vector</th>\n",
              "    </tr>\n",
              "  </thead>\n",
              "  <tbody>\n",
              "    <tr>\n",
              "      <th>5</th>\n",
              "      <td>Senior Engineer</td>\n",
              "      <td>chibuzor.obilom@gmail.com</td>\n",
              "      <td>[0.016104918, 0.01589653, -0.037263863, -0.016...</td>\n",
              "    </tr>\n",
              "    <tr>\n",
              "      <th>24</th>\n",
              "      <td>Manager of Sales</td>\n",
              "      <td>iamguan@yeah.net</td>\n",
              "      <td>[0.02564861, 0.005234625, -0.077426195, 0.0211...</td>\n",
              "    </tr>\n",
              "    <tr>\n",
              "      <th>100</th>\n",
              "      <td>Technical Lead</td>\n",
              "      <td>prasadsunny1@gmail.com</td>\n",
              "      <td>[-0.047285523, 0.06932076, -0.0064845555, 0.02...</td>\n",
              "    </tr>\n",
              "    <tr>\n",
              "      <th>107</th>\n",
              "      <td>Senior Associate Engineer</td>\n",
              "      <td>rkalavakuntla@tasengg.com</td>\n",
              "      <td>[0.02134378, 0.023986489, -0.02848963, -0.0211...</td>\n",
              "    </tr>\n",
              "    <tr>\n",
              "      <th>264</th>\n",
              "      <td>Head of Technology</td>\n",
              "      <td>christian@penetrace.com</td>\n",
              "      <td>[-0.029905481, 0.095552064, 0.0024888797, 0.00...</td>\n",
              "    </tr>\n",
              "    <tr>\n",
              "      <th>...</th>\n",
              "      <td>...</td>\n",
              "      <td>...</td>\n",
              "      <td>...</td>\n",
              "    </tr>\n",
              "    <tr>\n",
              "      <th>24280</th>\n",
              "      <td>Reponsable Datamining</td>\n",
              "      <td>vpiot@oui.sncf</td>\n",
              "      <td>[0.0124193635, -0.06058235, -0.0136015555, 0.0...</td>\n",
              "    </tr>\n",
              "    <tr>\n",
              "      <th>24328</th>\n",
              "      <td>Chargées d'Analyses Financières</td>\n",
              "      <td>isabelle.duffau@pole-emploi.fr</td>\n",
              "      <td>[-0.039011903, -0.04080392, 0.020483527, 0.045...</td>\n",
              "    </tr>\n",
              "    <tr>\n",
              "      <th>24394</th>\n",
              "      <td>Chef de Projets</td>\n",
              "      <td>nicolas.varenne@medusims.com</td>\n",
              "      <td>[-0.050758168, 0.027393581, -0.00058877113, 0....</td>\n",
              "    </tr>\n",
              "    <tr>\n",
              "      <th>24498</th>\n",
              "      <td>Directeur Systèmes d'Information</td>\n",
              "      <td>philippe-alexandre.schajer@eurovia.com</td>\n",
              "      <td>[-0.004294157, 0.01826609, 0.0045741037, 0.037...</td>\n",
              "    </tr>\n",
              "    <tr>\n",
              "      <th>24678</th>\n",
              "      <td>Responsable de filière</td>\n",
              "      <td>sebler@hotmail.com</td>\n",
              "      <td>[0.022173842, -0.017844371, 0.024932103, -0.00...</td>\n",
              "    </tr>\n",
              "  </tbody>\n",
              "</table>\n",
              "<p>349 rows × 3 columns</p>\n",
              "</div>"
            ],
            "text/plain": [
              "                               jobtitle  ...                                             vector\n",
              "5                       Senior Engineer  ...  [0.016104918, 0.01589653, -0.037263863, -0.016...\n",
              "24                     Manager of Sales  ...  [0.02564861, 0.005234625, -0.077426195, 0.0211...\n",
              "100                      Technical Lead  ...  [-0.047285523, 0.06932076, -0.0064845555, 0.02...\n",
              "107           Senior Associate Engineer  ...  [0.02134378, 0.023986489, -0.02848963, -0.0211...\n",
              "264                  Head of Technology  ...  [-0.029905481, 0.095552064, 0.0024888797, 0.00...\n",
              "...                                 ...  ...                                                ...\n",
              "24280             Reponsable Datamining  ...  [0.0124193635, -0.06058235, -0.0136015555, 0.0...\n",
              "24328   Chargées d'Analyses Financières  ...  [-0.039011903, -0.04080392, 0.020483527, 0.045...\n",
              "24394                   Chef de Projets  ...  [-0.050758168, 0.027393581, -0.00058877113, 0....\n",
              "24498  Directeur Systèmes d'Information  ...  [-0.004294157, 0.01826609, 0.0045741037, 0.037...\n",
              "24678            Responsable de filière  ...  [0.022173842, -0.017844371, 0.024932103, -0.00...\n",
              "\n",
              "[349 rows x 3 columns]"
            ]
          },
          "metadata": {},
          "execution_count": 44
        }
      ]
    },
    {
      "cell_type": "code",
      "metadata": {
        "colab": {
          "base_uri": "https://localhost:8080/",
          "height": 424
        },
        "id": "3JrR4PDw6G_q",
        "outputId": "27c39636-6fa4-4315-e3b9-4974de52d592"
      },
      "source": [
        "table_persona[['buyer_persona', 'job_title', 'vector']]"
      ],
      "execution_count": 45,
      "outputs": [
        {
          "output_type": "execute_result",
          "data": {
            "text/html": [
              "<div>\n",
              "<style scoped>\n",
              "    .dataframe tbody tr th:only-of-type {\n",
              "        vertical-align: middle;\n",
              "    }\n",
              "\n",
              "    .dataframe tbody tr th {\n",
              "        vertical-align: top;\n",
              "    }\n",
              "\n",
              "    .dataframe thead th {\n",
              "        text-align: right;\n",
              "    }\n",
              "</style>\n",
              "<table border=\"1\" class=\"dataframe\">\n",
              "  <thead>\n",
              "    <tr style=\"text-align: right;\">\n",
              "      <th></th>\n",
              "      <th>buyer_persona</th>\n",
              "      <th>job_title</th>\n",
              "      <th>vector</th>\n",
              "    </tr>\n",
              "  </thead>\n",
              "  <tbody>\n",
              "    <tr>\n",
              "      <th>0</th>\n",
              "      <td>Data Leader - CIO, CDO</td>\n",
              "      <td>CIO</td>\n",
              "      <td>[0.018791175, 0.0241993, 0.04187469, -0.000740...</td>\n",
              "    </tr>\n",
              "    <tr>\n",
              "      <th>1</th>\n",
              "      <td>Data Leader - CIO, CDO</td>\n",
              "      <td>CDO</td>\n",
              "      <td>[0.052183516, -0.003516074, -0.0060044792, -0....</td>\n",
              "    </tr>\n",
              "    <tr>\n",
              "      <th>2</th>\n",
              "      <td>Data Leader - CIO, CDO</td>\n",
              "      <td>Chief Information Officer</td>\n",
              "      <td>[0.029007144, 0.08815744, 0.008515886, 0.01692...</td>\n",
              "    </tr>\n",
              "    <tr>\n",
              "      <th>3</th>\n",
              "      <td>Data Leader - CIO, CDO</td>\n",
              "      <td>CIO</td>\n",
              "      <td>[0.018791175, 0.0241993, 0.04187469, -0.000740...</td>\n",
              "    </tr>\n",
              "    <tr>\n",
              "      <th>5</th>\n",
              "      <td>Data Leader - CIO, CDO</td>\n",
              "      <td>Head of Information Technology</td>\n",
              "      <td>[-0.04500205, 0.096511535, 0.03392309, 0.04132...</td>\n",
              "    </tr>\n",
              "    <tr>\n",
              "      <th>...</th>\n",
              "      <td>...</td>\n",
              "      <td>...</td>\n",
              "      <td>...</td>\n",
              "    </tr>\n",
              "    <tr>\n",
              "      <th>115</th>\n",
              "      <td>Practitioner</td>\n",
              "      <td>Chef de Projet Décisionnel</td>\n",
              "      <td>[-0.042411648, 0.027226837, 0.01959621, 0.0461...</td>\n",
              "    </tr>\n",
              "    <tr>\n",
              "      <th>119</th>\n",
              "      <td>Practitioner</td>\n",
              "      <td>Chef de Projet Business Intelligence</td>\n",
              "      <td>[-0.01577634, -0.0404313, 0.04310881, 0.006635...</td>\n",
              "    </tr>\n",
              "    <tr>\n",
              "      <th>120</th>\n",
              "      <td>Practitioner</td>\n",
              "      <td>Chef de Projet Insights</td>\n",
              "      <td>[-0.039283436, 0.028995229, 0.026557157, 0.043...</td>\n",
              "    </tr>\n",
              "    <tr>\n",
              "      <th>122</th>\n",
              "      <td>Practitioner</td>\n",
              "      <td>Chef de Projet SI</td>\n",
              "      <td>[-0.06391318, 0.056288775, 0.05590724, 0.01934...</td>\n",
              "    </tr>\n",
              "    <tr>\n",
              "      <th>130</th>\n",
              "      <td>Practitioner</td>\n",
              "      <td>Chef de Projet Senior SI</td>\n",
              "      <td>[-0.044000506, 0.056336064, 0.025562407, -0.01...</td>\n",
              "    </tr>\n",
              "  </tbody>\n",
              "</table>\n",
              "<p>68 rows × 3 columns</p>\n",
              "</div>"
            ],
            "text/plain": [
              "              buyer_persona  ...                                             vector\n",
              "0    Data Leader - CIO, CDO  ...  [0.018791175, 0.0241993, 0.04187469, -0.000740...\n",
              "1    Data Leader - CIO, CDO  ...  [0.052183516, -0.003516074, -0.0060044792, -0....\n",
              "2    Data Leader - CIO, CDO  ...  [0.029007144, 0.08815744, 0.008515886, 0.01692...\n",
              "3    Data Leader - CIO, CDO  ...  [0.018791175, 0.0241993, 0.04187469, -0.000740...\n",
              "5    Data Leader - CIO, CDO  ...  [-0.04500205, 0.096511535, 0.03392309, 0.04132...\n",
              "..                      ...  ...                                                ...\n",
              "115            Practitioner  ...  [-0.042411648, 0.027226837, 0.01959621, 0.0461...\n",
              "119            Practitioner  ...  [-0.01577634, -0.0404313, 0.04310881, 0.006635...\n",
              "120            Practitioner  ...  [-0.039283436, 0.028995229, 0.026557157, 0.043...\n",
              "122            Practitioner  ...  [-0.06391318, 0.056288775, 0.05590724, 0.01934...\n",
              "130            Practitioner  ...  [-0.044000506, 0.056336064, 0.025562407, -0.01...\n",
              "\n",
              "[68 rows x 3 columns]"
            ]
          },
          "metadata": {},
          "execution_count": 45
        }
      ]
    }
  ]
}