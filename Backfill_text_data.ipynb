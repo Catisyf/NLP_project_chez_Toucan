{
  "nbformat": 4,
  "nbformat_minor": 0,
  "metadata": {
    "colab": {
      "name": "Welcome to Colaboratory",
      "provenance": [],
      "collapsed_sections": [],
      "include_colab_link": true
    },
    "kernelspec": {
      "display_name": "Python 3",
      "name": "python3"
    }
  },
  "cells": [
    {
      "cell_type": "markdown",
      "metadata": {
        "id": "view-in-github",
        "colab_type": "text"
      },
      "source": [
        "<a href=\"https://colab.research.google.com/github/Catisyf/Python-projects-chez-Toucan/blob/main/Backfill_text_data.ipynb\" target=\"_parent\"><img src=\"https://colab.research.google.com/assets/colab-badge.svg\" alt=\"Open In Colab\"/></a>"
      ]
    },
    {
      "cell_type": "code",
      "metadata": {
        "id": "pVZPHERqJhuF",
        "colab": {
          "base_uri": "https://localhost:8080/"
        },
        "outputId": "85aff3e5-2bb1-42cd-b8a0-98eb02ac69d6"
      },
      "source": [
        "from google.colab import drive\n",
        "drive.mount('/content/drive')"
      ],
      "execution_count": null,
      "outputs": [
        {
          "output_type": "stream",
          "name": "stdout",
          "text": [
            "Mounted at /content/drive\n"
          ]
        }
      ]
    },
    {
      "cell_type": "code",
      "metadata": {
        "id": "nCsWMPU7tliw",
        "colab": {
          "base_uri": "https://localhost:8080/"
        },
        "outputId": "b8d48142-642b-40cc-8a5f-0bcd7641b2e4"
      },
      "source": [
        "!ls '/content/drive/My Drive/crm_contacts.csv'"
      ],
      "execution_count": null,
      "outputs": [
        {
          "output_type": "stream",
          "name": "stdout",
          "text": [
            "'/content/drive/My Drive/crm_contacts.csv'\n"
          ]
        }
      ]
    },
    {
      "cell_type": "code",
      "metadata": {
        "id": "tAv_r6lsBGrL"
      },
      "source": [
        "pip install -U sentence-transformers"
      ],
      "execution_count": null,
      "outputs": []
    },
    {
      "cell_type": "code",
      "metadata": {
        "id": "wdIrx5mWuiHN"
      },
      "source": [
        "import pandas as pd\n",
        "from scipy import spatial\n",
        "from collections import Counter"
      ],
      "execution_count": null,
      "outputs": []
    },
    {
      "cell_type": "code",
      "metadata": {
        "id": "bYXM4tsd2_wG"
      },
      "source": [
        "df_contacts = pd.read_csv('/content/drive/My Drive/crm_contacts.csv', na_values=' ') #replace blank cells with na\n",
        "df_persona = pd.read_csv('/content/drive/My Drive/buyer_persona_definition.csv')"
      ],
      "execution_count": 214,
      "outputs": []
    },
    {
      "cell_type": "code",
      "metadata": {
        "colab": {
          "base_uri": "https://localhost:8080/",
          "height": 424
        },
        "id": "dyElU-8ZAx9C",
        "outputId": "d9187fe5-9a25-47f5-94cb-531e859a9dd5"
      },
      "source": [
        "df_persona"
      ],
      "execution_count": 220,
      "outputs": [
        {
          "output_type": "execute_result",
          "data": {
            "text/html": [
              "<div>\n",
              "<style scoped>\n",
              "    .dataframe tbody tr th:only-of-type {\n",
              "        vertical-align: middle;\n",
              "    }\n",
              "\n",
              "    .dataframe tbody tr th {\n",
              "        vertical-align: top;\n",
              "    }\n",
              "\n",
              "    .dataframe thead th {\n",
              "        text-align: right;\n",
              "    }\n",
              "</style>\n",
              "<table border=\"1\" class=\"dataframe\">\n",
              "  <thead>\n",
              "    <tr style=\"text-align: right;\">\n",
              "      <th></th>\n",
              "      <th>buyer_persona</th>\n",
              "      <th>job_title</th>\n",
              "    </tr>\n",
              "  </thead>\n",
              "  <tbody>\n",
              "    <tr>\n",
              "      <th>0</th>\n",
              "      <td>Data Leader - CIO, CDO</td>\n",
              "      <td>CIO</td>\n",
              "    </tr>\n",
              "    <tr>\n",
              "      <th>1</th>\n",
              "      <td>Data Leader - CIO, CDO</td>\n",
              "      <td>CDO</td>\n",
              "    </tr>\n",
              "    <tr>\n",
              "      <th>2</th>\n",
              "      <td>Data Leader - CIO, CDO</td>\n",
              "      <td>Chief Information Officer</td>\n",
              "    </tr>\n",
              "    <tr>\n",
              "      <th>3</th>\n",
              "      <td>Data Leader - CIO, CDO</td>\n",
              "      <td>CIO</td>\n",
              "    </tr>\n",
              "    <tr>\n",
              "      <th>4</th>\n",
              "      <td>Data Leader - CIO, CDO</td>\n",
              "      <td>Head of IT</td>\n",
              "    </tr>\n",
              "    <tr>\n",
              "      <th>...</th>\n",
              "      <td>...</td>\n",
              "      <td>...</td>\n",
              "    </tr>\n",
              "    <tr>\n",
              "      <th>126</th>\n",
              "      <td>Practitioner</td>\n",
              "      <td>Chef de Projet Senior BI</td>\n",
              "    </tr>\n",
              "    <tr>\n",
              "      <th>127</th>\n",
              "      <td>Practitioner</td>\n",
              "      <td>Chef de Projet Senior Business Intelligence</td>\n",
              "    </tr>\n",
              "    <tr>\n",
              "      <th>128</th>\n",
              "      <td>Practitioner</td>\n",
              "      <td>Chef de Projet Senior Insights</td>\n",
              "    </tr>\n",
              "    <tr>\n",
              "      <th>129</th>\n",
              "      <td>Practitioner</td>\n",
              "      <td>Chef de Projet Senior Analytics</td>\n",
              "    </tr>\n",
              "    <tr>\n",
              "      <th>130</th>\n",
              "      <td>Practitioner</td>\n",
              "      <td>Chef de Projet Senior SI</td>\n",
              "    </tr>\n",
              "  </tbody>\n",
              "</table>\n",
              "<p>131 rows × 2 columns</p>\n",
              "</div>"
            ],
            "text/plain": [
              "              buyer_persona                                    job_title\n",
              "0    Data Leader - CIO, CDO                                          CIO\n",
              "1    Data Leader - CIO, CDO                                          CDO\n",
              "2    Data Leader - CIO, CDO                    Chief Information Officer\n",
              "3    Data Leader - CIO, CDO                                          CIO\n",
              "4    Data Leader - CIO, CDO                                   Head of IT\n",
              "..                      ...                                          ...\n",
              "126            Practitioner                     Chef de Projet Senior BI\n",
              "127            Practitioner  Chef de Projet Senior Business Intelligence\n",
              "128            Practitioner               Chef de Projet Senior Insights\n",
              "129            Practitioner              Chef de Projet Senior Analytics\n",
              "130            Practitioner                     Chef de Projet Senior SI\n",
              "\n",
              "[131 rows x 2 columns]"
            ]
          },
          "metadata": {},
          "execution_count": 220
        }
      ]
    },
    {
      "cell_type": "markdown",
      "metadata": {
        "id": "ABSwcWFIbzzG"
      },
      "source": [
        "## **Data Preparation**\n",
        "\n",
        "Step 1: remove null values & values that contain '(site)' from CRM data\n",
        "\n",
        "Step 2: remove stop words in both datasets (of, de). It is not necessary to use stopwords dictionaries.  "
      ]
    },
    {
      "cell_type": "code",
      "metadata": {
        "id": "OCU_wEVOciYM"
      },
      "source": [
        "df_contacts = df_contacts.replace('?', 'np.Nan').dropna() #remove null"
      ],
      "execution_count": 215,
      "outputs": []
    },
    {
      "cell_type": "code",
      "metadata": {
        "colab": {
          "base_uri": "https://localhost:8080/"
        },
        "id": "Ww2zFsoZ40TK",
        "outputId": "bbdfedf6-8274-4f1d-a408-aeba7317036d"
      },
      "source": [
        "df_contacts = df_contacts[~df_contacts.jobtitle.str.contains('(site)')] #remove strings that contain (site)"
      ],
      "execution_count": 216,
      "outputs": [
        {
          "output_type": "stream",
          "name": "stderr",
          "text": [
            "/usr/local/lib/python3.7/dist-packages/pandas/core/strings.py:2001: UserWarning: This pattern has match groups. To actually get the groups, use str.extract.\n",
            "  return func(self, *args, **kwargs)\n"
          ]
        }
      ]
    },
    {
      "cell_type": "code",
      "metadata": {
        "id": "sUcmjQoY5tyX"
      },
      "source": [
        "stopwords = ['of', 'de', 'du', 'for', 'For', 'the', 'et', '&', '/'] #may consider using the EN & FR stopwords\n",
        "space = ' '\n",
        "stopwords_dict = Counter(stopwords)\n",
        "for n in range(0,len(df_contacts)):\n",
        "  df_contacts.iloc[n]['jobtitle'] = space.join([word for word in df_contacts.iloc[n]['jobtitle'].split() \\\n",
        "                                                if word not in stopwords_dict]) #remove stopwords for crm data"
      ],
      "execution_count": 218,
      "outputs": []
    },
    {
      "cell_type": "code",
      "metadata": {
        "id": "1RO_ievcAqhR"
      },
      "source": [
        "for n in range(0,len(df_persona)):\n",
        "  df_persona.iloc[n]['job_title'] = space.join([word for word in df_persona.iloc[n]['job_title'].split() \\\n",
        "                                                if word not in stopwords_dict]) #remove stopwords for persona"
      ],
      "execution_count": 221,
      "outputs": []
    },
    {
      "cell_type": "code",
      "metadata": {
        "id": "UXNykcb7Ge4G"
      },
      "source": [
        "#Pre-trained sentence transformer model\n",
        "from sentence_transformers import SentenceTransformer\n",
        "model = SentenceTransformer('distiluse-base-multilingual-cased-v1')"
      ],
      "execution_count": null,
      "outputs": []
    },
    {
      "cell_type": "code",
      "metadata": {
        "id": "RCPQgP49Qiwq"
      },
      "source": [
        "#MOCK dataset\n",
        "#doc1 = ['BI Analyst', 'Data Analyst', 'head product', 'director marketing']\n",
        "#doc2 = ['BI engineer', 'Business Analyst', 'marketing manager', 'chef produit']"
      ],
      "execution_count": 266,
      "outputs": []
    },
    {
      "cell_type": "code",
      "metadata": {
        "id": "FyF7yjncG-s0"
      },
      "source": [
        "#Sentences are encoded by calling model.encode()\n",
        "vector1 = []\n",
        "for i in range(0,len(df_contacts)):\n",
        "  vector1.append(model.encode(df_contacts.iloc[i]['jobtitle']))\n",
        "\n",
        "df_contacts['vector'] = vector1"
      ],
      "execution_count": 233,
      "outputs": []
    },
    {
      "cell_type": "code",
      "metadata": {
        "id": "8bLnmhWVTj6k"
      },
      "source": [
        "vector2 = []\n",
        "for i in range(0,len(df_persona)):\n",
        "  vector2.append(model.encode(df_persona.iloc[i]['job_title']))\n",
        "\n",
        "df_persona['vector'] = vector2"
      ],
      "execution_count": 231,
      "outputs": []
    },
    {
      "cell_type": "code",
      "metadata": {
        "id": "Q4qFo8rNZRS_"
      },
      "source": [
        "#def cosine_similarity (x,y):"
      ],
      "execution_count": null,
      "outputs": []
    },
    {
      "cell_type": "code",
      "metadata": {
        "id": "qKgtgYi3fxXu"
      },
      "source": [
        "for vec1 in df_contacts['vector']:\n",
        "  for vec2 in df_persona['vector']:\n",
        "    if (1-spatial.distance.cosine(vec1, vec2)) >= 0.7:\n",
        "      print(vec1, vec2, 1-spatial.distance.cosine(vec1, vec2))"
      ],
      "execution_count": null,
      "outputs": []
    }
  ]
}