{
  "nbformat": 4,
  "nbformat_minor": 0,
  "metadata": {
    "colab": {
      "name": "Welcome to Colaboratory",
      "provenance": [],
      "collapsed_sections": [],
      "include_colab_link": true
    },
    "kernelspec": {
      "display_name": "Python 3",
      "name": "python3"
    }
  },
  "cells": [
    {
      "cell_type": "markdown",
      "metadata": {
        "id": "view-in-github",
        "colab_type": "text"
      },
      "source": [
        "<a href=\"https://colab.research.google.com/github/Catisyf/Python-projects-chez-Toucan/blob/main/Backfill_text_data.ipynb\" target=\"_parent\"><img src=\"https://colab.research.google.com/assets/colab-badge.svg\" alt=\"Open In Colab\"/></a>"
      ]
    },
    {
      "cell_type": "code",
      "metadata": {
        "id": "pVZPHERqJhuF",
        "colab": {
          "base_uri": "https://localhost:8080/"
        },
        "outputId": "e91ac141-273b-456c-bdbd-071dffe6a2a4"
      },
      "source": [
        "from google.colab import drive\n",
        "drive.mount('/content/drive')"
      ],
      "execution_count": 2,
      "outputs": [
        {
          "output_type": "stream",
          "name": "stdout",
          "text": [
            "Drive already mounted at /content/drive; to attempt to forcibly remount, call drive.mount(\"/content/drive\", force_remount=True).\n"
          ]
        }
      ]
    },
    {
      "cell_type": "code",
      "metadata": {
        "id": "tAv_r6lsBGrL"
      },
      "source": [
        "pip install -U sentence-transformers"
      ],
      "execution_count": null,
      "outputs": []
    },
    {
      "cell_type": "code",
      "metadata": {
        "id": "nCsWMPU7tliw",
        "colab": {
          "base_uri": "https://localhost:8080/"
        },
        "outputId": "b8d48142-642b-40cc-8a5f-0bcd7641b2e4"
      },
      "source": [
        "!ls '/content/drive/My Drive/crm_contacts.csv'"
      ],
      "execution_count": null,
      "outputs": [
        {
          "output_type": "stream",
          "name": "stdout",
          "text": [
            "'/content/drive/My Drive/crm_contacts.csv'\n"
          ]
        }
      ]
    },
    {
      "cell_type": "code",
      "metadata": {
        "id": "wdIrx5mWuiHN"
      },
      "source": [
        "import pandas as pd\n",
        "from scipy import spatial\n",
        "from collections import Counter #reduce processing time\n",
        "import numpy as np"
      ],
      "execution_count": 4,
      "outputs": []
    },
    {
      "cell_type": "code",
      "metadata": {
        "id": "bYXM4tsd2_wG"
      },
      "source": [
        "df_contacts = pd.read_csv('/content/drive/My Drive/crm_contacts.csv', na_values=' ') #replace blank cells with na\n",
        "df_persona = pd.read_csv('/content/drive/My Drive/buyer_persona_definition.csv')"
      ],
      "execution_count": 5,
      "outputs": []
    },
    {
      "cell_type": "markdown",
      "metadata": {
        "id": "ABSwcWFIbzzG"
      },
      "source": [
        "## **Data Preparation**\n",
        "\n",
        "Step 1: remove null & irrelevant values from CRM data\n",
        "\n",
        "Step 2: remove stop words in both datasets (of, de etc.). It is not necessary to use stopwords dictionaries.  "
      ]
    },
    {
      "cell_type": "code",
      "metadata": {
        "id": "OCU_wEVOciYM"
      },
      "source": [
        "df_contacts = df_contacts.replace('?', 'np.Nan').dropna() #remove null"
      ],
      "execution_count": 6,
      "outputs": []
    },
    {
      "cell_type": "code",
      "metadata": {
        "colab": {
          "base_uri": "https://localhost:8080/"
        },
        "id": "Ww2zFsoZ40TK",
        "outputId": "b2ecc33a-1054-451d-d5b3-04002d9844d2"
      },
      "source": [
        "df_contacts = df_contacts[~df_contacts.jobtitle.str.contains('(site)|(try-for-free)')] #remove strings that contain irrelevant info"
      ],
      "execution_count": 7,
      "outputs": [
        {
          "output_type": "stream",
          "name": "stderr",
          "text": [
            "/usr/local/lib/python3.7/dist-packages/pandas/core/strings.py:2001: UserWarning: This pattern has match groups. To actually get the groups, use str.extract.\n",
            "  return func(self, *args, **kwargs)\n"
          ]
        }
      ]
    },
    {
      "cell_type": "code",
      "metadata": {
        "id": "akz3k8mwUaVA"
      },
      "source": [
        "stopwords = ['of', 'de', 'du', 'for', 'For', 'the', 'et', '&', '/'] \n",
        "space = ' '\n",
        "stopwords_dict = Counter(stopwords)"
      ],
      "execution_count": 8,
      "outputs": []
    },
    {
      "cell_type": "code",
      "metadata": {
        "id": "PFpntpu7dfyg"
      },
      "source": [
        "clean = []\n",
        "for n in range(0,len(df_contacts)):\n",
        "  clean.append(space.join([word for word in df_contacts.iloc[n]['jobtitle'].split() \\\n",
        "                                                if word not in stopwords_dict])) #remove stopwords from persona data\n",
        "  \n",
        "df_contacts['clean_title'] = clean"
      ],
      "execution_count": 9,
      "outputs": []
    },
    {
      "cell_type": "code",
      "metadata": {
        "id": "ZtgtJNTJZGhf"
      },
      "source": [
        "clean = []\n",
        "for n in range(0,len(df_persona)):\n",
        "  clean.append(space.join([word for word in df_persona.iloc[n]['job_title'].split() \\\n",
        "                                                if word not in stopwords_dict])) #remove stopwords from persona data\n",
        "  \n",
        "df_persona['clean_title'] = clean"
      ],
      "execution_count": 10,
      "outputs": []
    },
    {
      "cell_type": "markdown",
      "metadata": {
        "id": "oSjeVkhSFmEp"
      },
      "source": [
        "## **Use NLP model for matching**"
      ]
    },
    {
      "cell_type": "code",
      "metadata": {
        "id": "UXNykcb7Ge4G"
      },
      "source": [
        "#Pre-trained sentence transformer model\n",
        "from sentence_transformers import SentenceTransformer\n",
        "model = SentenceTransformer('distiluse-base-multilingual-cased-v1')"
      ],
      "execution_count": 11,
      "outputs": []
    },
    {
      "cell_type": "code",
      "metadata": {
        "id": "FyF7yjncG-s0"
      },
      "source": [
        "#Vectorize cleaned job titles\n",
        "\n",
        "vector1 = []\n",
        "for i in range(0,len(df_contacts)):\n",
        "  vector1.append(model.encode(df_contacts.iloc[i]['clean_title']))\n",
        "\n",
        "df_contacts['vector'] = vector1"
      ],
      "execution_count": 12,
      "outputs": []
    },
    {
      "cell_type": "code",
      "metadata": {
        "id": "ytNjHiQkbIbB"
      },
      "source": [
        "vector2 = []\n",
        "for i in range(0,len(df_persona)):\n",
        "  vector2.append(model.encode(df_persona.iloc[i]['clean_title']))\n",
        "\n",
        "df_persona['vector'] = vector2"
      ],
      "execution_count": 24,
      "outputs": []
    },
    {
      "cell_type": "code",
      "metadata": {
        "id": "BqNmM38sfuSt"
      },
      "source": [
        "#function for cosine similarity\n",
        "#def cosine_similarity(v1,v2):\n",
        "  #return 1-spatial.distance.cosine(v1, v2)"
      ],
      "execution_count": null,
      "outputs": []
    },
    {
      "cell_type": "code",
      "metadata": {
        "id": "qKgtgYi3fxXu"
      },
      "source": [
        "vec_crm = []\n",
        "vec_persona = []\n",
        "similarity = []\n",
        "for vec1 in df_contacts['vector']:\n",
        "  for vec2 in df_persona['vector']:\n",
        "    if (1-spatial.distance.cosine(vec1, vec2)) >= 0.85: #set thereshold for high-level similarity \n",
        "      vec_crm.append(vec1)\n",
        "      vec_persona.append(vec2)\n",
        "      similarity.append(1-spatial.distance.cosine(vec1, vec2))"
      ],
      "execution_count": 34,
      "outputs": []
    },
    {
      "cell_type": "code",
      "metadata": {
        "id": "FzxdvPOlxCXf"
      },
      "source": [
        "table = pd.DataFrame({'vec_crm': vec_crm,\n",
        "                     'vec_persona': vec_persona,\n",
        "                      'similarity': similarity})"
      ],
      "execution_count": 59,
      "outputs": []
    },
    {
      "cell_type": "code",
      "metadata": {
        "id": "PTG-e73kp_BJ"
      },
      "source": [
        "#find job titles & persona\n",
        "table_persona = df_persona[df_persona['vector'].isin(vec_persona)]\n",
        "table_contacts = df_contacts[df_contacts['vector'].isin(vec_crm)]"
      ],
      "execution_count": 112,
      "outputs": []
    },
    {
      "cell_type": "code",
      "metadata": {
        "id": "4i3KL8GTkmiB"
      },
      "source": [
        "#convert np array to str so I can use the vector as a key for joining tables\n",
        "list1 = []\n",
        "list2 = []\n",
        "for i in range(len(table)):\n",
        "  list1.append(np.array_str(table.iloc[i]['vec_crm']))\n",
        "  list2.append(np.array_str(table.iloc[i]['vec_persona']))\n",
        "\n",
        "table['vec1'] = list1\n",
        "table['vec2'] = list2"
      ],
      "execution_count": 86,
      "outputs": []
    },
    {
      "cell_type": "code",
      "metadata": {
        "id": "iiqCoei4msSX"
      },
      "source": [
        "ls = []\n",
        "for i in range(len(table_contacts)):\n",
        "  ls.append(np.array_str(table_contacts.iloc[i]['vector']))\n",
        "\n",
        "table_contacts['vec_str'] = ls"
      ],
      "execution_count": null,
      "outputs": []
    },
    {
      "cell_type": "code",
      "metadata": {
        "id": "r5IsG18ZntB2"
      },
      "source": [
        "ls = []\n",
        "for i in range(len(table_persona)):\n",
        "  ls.append(np.array_str(table_persona.iloc[i]['vector']))\n",
        "\n",
        "table_persona['vec_str'] = ls"
      ],
      "execution_count": null,
      "outputs": []
    },
    {
      "cell_type": "code",
      "metadata": {
        "id": "rBq8WU4knIhF"
      },
      "source": [
        "#join table\n",
        "table1 = table.merge(table_contacts, left_on = 'vec1', right_on = 'vec_str')"
      ],
      "execution_count": 97,
      "outputs": []
    },
    {
      "cell_type": "code",
      "metadata": {
        "id": "MZ_Wlwj4n8_2"
      },
      "source": [
        "table2 = table1.merge(table_persona, left_on = 'vec2', right_on = 'vec_str')"
      ],
      "execution_count": 102,
      "outputs": []
    },
    {
      "cell_type": "code",
      "metadata": {
        "id": "ECkLWnJfojK1"
      },
      "source": [
        "final = table2[['similarity', 'jobtitle', 'email', 'buyer_persona', 'job_title']]"
      ],
      "execution_count": 106,
      "outputs": []
    },
    {
      "cell_type": "code",
      "metadata": {
        "id": "MAf048t8pkrj",
        "outputId": "24f0a94f-c930-40de-a815-81b641105dd7",
        "colab": {
          "base_uri": "https://localhost:8080/",
          "height": 424
        }
      },
      "source": [
        "#final output\n",
        "final.drop_duplicates()"
      ],
      "execution_count": 110,
      "outputs": [
        {
          "output_type": "execute_result",
          "data": {
            "text/html": [
              "<div>\n",
              "<style scoped>\n",
              "    .dataframe tbody tr th:only-of-type {\n",
              "        vertical-align: middle;\n",
              "    }\n",
              "\n",
              "    .dataframe tbody tr th {\n",
              "        vertical-align: top;\n",
              "    }\n",
              "\n",
              "    .dataframe thead th {\n",
              "        text-align: right;\n",
              "    }\n",
              "</style>\n",
              "<table border=\"1\" class=\"dataframe\">\n",
              "  <thead>\n",
              "    <tr style=\"text-align: right;\">\n",
              "      <th></th>\n",
              "      <th>similarity</th>\n",
              "      <th>jobtitle</th>\n",
              "      <th>email</th>\n",
              "      <th>buyer_persona</th>\n",
              "      <th>job_title</th>\n",
              "    </tr>\n",
              "  </thead>\n",
              "  <tbody>\n",
              "    <tr>\n",
              "      <th>0</th>\n",
              "      <td>0.874570</td>\n",
              "      <td>Senior Engineer</td>\n",
              "      <td>chibuzor.obilom@gmail.com</td>\n",
              "      <td>Practitioner</td>\n",
              "      <td>Senior BI Engineer</td>\n",
              "    </tr>\n",
              "    <tr>\n",
              "      <th>1</th>\n",
              "      <td>0.874570</td>\n",
              "      <td>Senior Engineer</td>\n",
              "      <td>vishal.dwivedi9@gmail.com</td>\n",
              "      <td>Practitioner</td>\n",
              "      <td>Senior BI Engineer</td>\n",
              "    </tr>\n",
              "    <tr>\n",
              "      <th>2</th>\n",
              "      <td>0.874570</td>\n",
              "      <td>Senior Engineer</td>\n",
              "      <td>skadir@tereos.com</td>\n",
              "      <td>Practitioner</td>\n",
              "      <td>Senior BI Engineer</td>\n",
              "    </tr>\n",
              "    <tr>\n",
              "      <th>9</th>\n",
              "      <td>0.879964</td>\n",
              "      <td>Senior Associate Engineer</td>\n",
              "      <td>rkalavakuntla@tasengg.com</td>\n",
              "      <td>Practitioner</td>\n",
              "      <td>Senior BI Engineer</td>\n",
              "    </tr>\n",
              "    <tr>\n",
              "      <th>10</th>\n",
              "      <td>0.932112</td>\n",
              "      <td>Manager of Sales</td>\n",
              "      <td>iamguan@yeah.net</td>\n",
              "      <td>Business Leader</td>\n",
              "      <td>Sales Director</td>\n",
              "    </tr>\n",
              "    <tr>\n",
              "      <th>...</th>\n",
              "      <td>...</td>\n",
              "      <td>...</td>\n",
              "      <td>...</td>\n",
              "      <td>...</td>\n",
              "      <td>...</td>\n",
              "    </tr>\n",
              "    <tr>\n",
              "      <th>2049</th>\n",
              "      <td>0.900356</td>\n",
              "      <td>Business Intelligence Project Leader</td>\n",
              "      <td>kasper.vrees@danone.com</td>\n",
              "      <td>Practitioner</td>\n",
              "      <td>Chef De Projet Business Intelligence</td>\n",
              "    </tr>\n",
              "    <tr>\n",
              "      <th>2050</th>\n",
              "      <td>0.850429</td>\n",
              "      <td>Chargée de projet Business Intelligence</td>\n",
              "      <td>claire.jourdan-sestier@isere.fr</td>\n",
              "      <td>Practitioner</td>\n",
              "      <td>Chef De Projet Business Intelligence</td>\n",
              "    </tr>\n",
              "    <tr>\n",
              "      <th>2051</th>\n",
              "      <td>0.866969</td>\n",
              "      <td>Business Intelligence Project Leader</td>\n",
              "      <td>kasper.vrees@danone.com</td>\n",
              "      <td>Practitioner</td>\n",
              "      <td>Chef de Projet Business Intelligence</td>\n",
              "    </tr>\n",
              "    <tr>\n",
              "      <th>2052</th>\n",
              "      <td>0.866108</td>\n",
              "      <td>Respo Analyse Données Finance</td>\n",
              "      <td>michel.ndiaye@fnacdarty.com</td>\n",
              "      <td>Practitioner</td>\n",
              "      <td>Financial Analyst</td>\n",
              "    </tr>\n",
              "    <tr>\n",
              "      <th>2053</th>\n",
              "      <td>0.921947</td>\n",
              "      <td>Chargées d'Analyses Financières</td>\n",
              "      <td>isabelle.duffau@pole-emploi.fr</td>\n",
              "      <td>Practitioner</td>\n",
              "      <td>Financial Analyst</td>\n",
              "    </tr>\n",
              "  </tbody>\n",
              "</table>\n",
              "<p>401 rows × 5 columns</p>\n",
              "</div>"
            ],
            "text/plain": [
              "      similarity  ...                             job_title\n",
              "0       0.874570  ...                    Senior BI Engineer\n",
              "1       0.874570  ...                    Senior BI Engineer\n",
              "2       0.874570  ...                    Senior BI Engineer\n",
              "9       0.879964  ...                    Senior BI Engineer\n",
              "10      0.932112  ...                        Sales Director\n",
              "...          ...  ...                                   ...\n",
              "2049    0.900356  ...  Chef De Projet Business Intelligence\n",
              "2050    0.850429  ...  Chef De Projet Business Intelligence\n",
              "2051    0.866969  ...  Chef de Projet Business Intelligence\n",
              "2052    0.866108  ...                     Financial Analyst\n",
              "2053    0.921947  ...                     Financial Analyst\n",
              "\n",
              "[401 rows x 5 columns]"
            ]
          },
          "metadata": {},
          "execution_count": 110
        }
      ]
    }
  ]
}